{
 "cells": [
  {
   "cell_type": "code",
   "execution_count": 1,
   "metadata": {},
   "outputs": [],
   "source": [
    "import pandas as pd\n",
    "import numpy as np\n",
    "import matplotlib.pyplot as plt\n",
    "import seaborn as sns\n",
    "\n",
    "import tensorflow as tf\n",
    "from tensorflow\timport keras\n",
    "from tensorflow.keras.models import Sequential\n",
    "from tensorflow.keras.callbacks import EarlyStopping\n",
    "from tensorflow.keras import layers\n",
    "from tensorflow.keras.optimizers import Adam\n",
    "from keras.wrappers.scikit_learn import KerasRegressor\n",
    "\n",
    "from sklearn.model_selection import train_test_split\n",
    "from sklearn.linear_model import LinearRegression\n",
    "from sklearn.preprocessing import StandardScaler\n",
    "from sklearn.preprocessing import Normalizer\n",
    "from sklearn.metrics import r2_score, mean_squared_error, make_scorer\n",
    "from sklearn.model_selection import GridSearchCV"
   ]
  },
  {
   "cell_type": "markdown",
   "metadata": {},
   "source": [
    "### Intro:\n",
    "This project will use the kaggle dataset [graduate_admissions](https://www.kaggle.com/mohansacharya/graduate-admissions?select=Admission_Predict_Ver1.1.csv) which contains the likelihood a given candidate would be admitted into a Masters Program based on a series of application factors. The goal of this project will be to build a deep learning regression that will be able to accurately predict the chance of a given students admission. Let's start by taking a look at the data.\n",
    " "
   ]
  },
  {
   "cell_type": "code",
   "execution_count": 2,
   "metadata": {},
   "outputs": [
    {
     "data": {
      "text/html": [
       "<div>\n",
       "<style scoped>\n",
       "    .dataframe tbody tr th:only-of-type {\n",
       "        vertical-align: middle;\n",
       "    }\n",
       "\n",
       "    .dataframe tbody tr th {\n",
       "        vertical-align: top;\n",
       "    }\n",
       "\n",
       "    .dataframe thead th {\n",
       "        text-align: right;\n",
       "    }\n",
       "</style>\n",
       "<table border=\"1\" class=\"dataframe\">\n",
       "  <thead>\n",
       "    <tr style=\"text-align: right;\">\n",
       "      <th></th>\n",
       "      <th>Serial No.</th>\n",
       "      <th>GRE Score</th>\n",
       "      <th>TOEFL Score</th>\n",
       "      <th>University Rating</th>\n",
       "      <th>SOP</th>\n",
       "      <th>LOR</th>\n",
       "      <th>CGPA</th>\n",
       "      <th>Research</th>\n",
       "      <th>Chance of Admit</th>\n",
       "    </tr>\n",
       "  </thead>\n",
       "  <tbody>\n",
       "    <tr>\n",
       "      <th>0</th>\n",
       "      <td>1</td>\n",
       "      <td>337</td>\n",
       "      <td>118</td>\n",
       "      <td>4</td>\n",
       "      <td>4.5</td>\n",
       "      <td>4.5</td>\n",
       "      <td>9.65</td>\n",
       "      <td>1</td>\n",
       "      <td>0.92</td>\n",
       "    </tr>\n",
       "    <tr>\n",
       "      <th>1</th>\n",
       "      <td>2</td>\n",
       "      <td>324</td>\n",
       "      <td>107</td>\n",
       "      <td>4</td>\n",
       "      <td>4.0</td>\n",
       "      <td>4.5</td>\n",
       "      <td>8.87</td>\n",
       "      <td>1</td>\n",
       "      <td>0.76</td>\n",
       "    </tr>\n",
       "    <tr>\n",
       "      <th>2</th>\n",
       "      <td>3</td>\n",
       "      <td>316</td>\n",
       "      <td>104</td>\n",
       "      <td>3</td>\n",
       "      <td>3.0</td>\n",
       "      <td>3.5</td>\n",
       "      <td>8.00</td>\n",
       "      <td>1</td>\n",
       "      <td>0.72</td>\n",
       "    </tr>\n",
       "    <tr>\n",
       "      <th>3</th>\n",
       "      <td>4</td>\n",
       "      <td>322</td>\n",
       "      <td>110</td>\n",
       "      <td>3</td>\n",
       "      <td>3.5</td>\n",
       "      <td>2.5</td>\n",
       "      <td>8.67</td>\n",
       "      <td>1</td>\n",
       "      <td>0.80</td>\n",
       "    </tr>\n",
       "    <tr>\n",
       "      <th>4</th>\n",
       "      <td>5</td>\n",
       "      <td>314</td>\n",
       "      <td>103</td>\n",
       "      <td>2</td>\n",
       "      <td>2.0</td>\n",
       "      <td>3.0</td>\n",
       "      <td>8.21</td>\n",
       "      <td>0</td>\n",
       "      <td>0.65</td>\n",
       "    </tr>\n",
       "  </tbody>\n",
       "</table>\n",
       "</div>"
      ],
      "text/plain": [
       "   Serial No.  GRE Score  TOEFL Score  University Rating  SOP  LOR   CGPA  \\\n",
       "0           1        337          118                  4  4.5   4.5  9.65   \n",
       "1           2        324          107                  4  4.0   4.5  8.87   \n",
       "2           3        316          104                  3  3.0   3.5  8.00   \n",
       "3           4        322          110                  3  3.5   2.5  8.67   \n",
       "4           5        314          103                  2  2.0   3.0  8.21   \n",
       "\n",
       "   Research  Chance of Admit   \n",
       "0         1              0.92  \n",
       "1         1              0.76  \n",
       "2         1              0.72  \n",
       "3         1              0.80  \n",
       "4         0              0.65  "
      ]
     },
     "execution_count": 2,
     "metadata": {},
     "output_type": "execute_result"
    }
   ],
   "source": [
    "admissions_df = pd.read_csv(\"admissions_data.csv\")\n",
    "admissions_df.head()"
   ]
  },
  {
   "cell_type": "code",
   "execution_count": 3,
   "metadata": {},
   "outputs": [
    {
     "data": {
      "text/plain": [
       "3    162\n",
       "2    126\n",
       "4    105\n",
       "5     73\n",
       "1     34\n",
       "Name: University Rating, dtype: int64"
      ]
     },
     "execution_count": 3,
     "metadata": {},
     "output_type": "execute_result"
    }
   ],
   "source": [
    "admissions_df[\"University Rating\"].value_counts()"
   ]
  },
  {
   "cell_type": "code",
   "execution_count": 4,
   "metadata": {
    "scrolled": true
   },
   "outputs": [
    {
     "name": "stdout",
     "output_type": "stream",
     "text": [
      "<class 'pandas.core.frame.DataFrame'>\n",
      "RangeIndex: 500 entries, 0 to 499\n",
      "Data columns (total 9 columns):\n",
      " #   Column             Non-Null Count  Dtype  \n",
      "---  ------             --------------  -----  \n",
      " 0   Serial No.         500 non-null    int64  \n",
      " 1   GRE Score          500 non-null    int64  \n",
      " 2   TOEFL Score        500 non-null    int64  \n",
      " 3   University Rating  500 non-null    int64  \n",
      " 4   SOP                500 non-null    float64\n",
      " 5   LOR                500 non-null    float64\n",
      " 6   CGPA               500 non-null    float64\n",
      " 7   Research           500 non-null    int64  \n",
      " 8   Chance of Admit    500 non-null    float64\n",
      "dtypes: float64(4), int64(5)\n",
      "memory usage: 35.3 KB\n"
     ]
    }
   ],
   "source": [
    "admissions_df.info()"
   ]
  },
  {
   "cell_type": "code",
   "execution_count": 5,
   "metadata": {
    "scrolled": true
   },
   "outputs": [
    {
     "data": {
      "text/html": [
       "<div>\n",
       "<style scoped>\n",
       "    .dataframe tbody tr th:only-of-type {\n",
       "        vertical-align: middle;\n",
       "    }\n",
       "\n",
       "    .dataframe tbody tr th {\n",
       "        vertical-align: top;\n",
       "    }\n",
       "\n",
       "    .dataframe thead th {\n",
       "        text-align: right;\n",
       "    }\n",
       "</style>\n",
       "<table border=\"1\" class=\"dataframe\">\n",
       "  <thead>\n",
       "    <tr style=\"text-align: right;\">\n",
       "      <th></th>\n",
       "      <th>Serial No.</th>\n",
       "      <th>GRE Score</th>\n",
       "      <th>TOEFL Score</th>\n",
       "      <th>University Rating</th>\n",
       "      <th>SOP</th>\n",
       "      <th>LOR</th>\n",
       "      <th>CGPA</th>\n",
       "      <th>Research</th>\n",
       "      <th>Chance of Admit</th>\n",
       "    </tr>\n",
       "  </thead>\n",
       "  <tbody>\n",
       "    <tr>\n",
       "      <th>count</th>\n",
       "      <td>500.000000</td>\n",
       "      <td>500.000000</td>\n",
       "      <td>500.000000</td>\n",
       "      <td>500.000000</td>\n",
       "      <td>500.000000</td>\n",
       "      <td>500.00000</td>\n",
       "      <td>500.000000</td>\n",
       "      <td>500.000000</td>\n",
       "      <td>500.00000</td>\n",
       "    </tr>\n",
       "    <tr>\n",
       "      <th>mean</th>\n",
       "      <td>250.500000</td>\n",
       "      <td>316.472000</td>\n",
       "      <td>107.192000</td>\n",
       "      <td>3.114000</td>\n",
       "      <td>3.374000</td>\n",
       "      <td>3.48400</td>\n",
       "      <td>8.576440</td>\n",
       "      <td>0.560000</td>\n",
       "      <td>0.72174</td>\n",
       "    </tr>\n",
       "    <tr>\n",
       "      <th>std</th>\n",
       "      <td>144.481833</td>\n",
       "      <td>11.295148</td>\n",
       "      <td>6.081868</td>\n",
       "      <td>1.143512</td>\n",
       "      <td>0.991004</td>\n",
       "      <td>0.92545</td>\n",
       "      <td>0.604813</td>\n",
       "      <td>0.496884</td>\n",
       "      <td>0.14114</td>\n",
       "    </tr>\n",
       "    <tr>\n",
       "      <th>min</th>\n",
       "      <td>1.000000</td>\n",
       "      <td>290.000000</td>\n",
       "      <td>92.000000</td>\n",
       "      <td>1.000000</td>\n",
       "      <td>1.000000</td>\n",
       "      <td>1.00000</td>\n",
       "      <td>6.800000</td>\n",
       "      <td>0.000000</td>\n",
       "      <td>0.34000</td>\n",
       "    </tr>\n",
       "    <tr>\n",
       "      <th>25%</th>\n",
       "      <td>125.750000</td>\n",
       "      <td>308.000000</td>\n",
       "      <td>103.000000</td>\n",
       "      <td>2.000000</td>\n",
       "      <td>2.500000</td>\n",
       "      <td>3.00000</td>\n",
       "      <td>8.127500</td>\n",
       "      <td>0.000000</td>\n",
       "      <td>0.63000</td>\n",
       "    </tr>\n",
       "    <tr>\n",
       "      <th>50%</th>\n",
       "      <td>250.500000</td>\n",
       "      <td>317.000000</td>\n",
       "      <td>107.000000</td>\n",
       "      <td>3.000000</td>\n",
       "      <td>3.500000</td>\n",
       "      <td>3.50000</td>\n",
       "      <td>8.560000</td>\n",
       "      <td>1.000000</td>\n",
       "      <td>0.72000</td>\n",
       "    </tr>\n",
       "    <tr>\n",
       "      <th>75%</th>\n",
       "      <td>375.250000</td>\n",
       "      <td>325.000000</td>\n",
       "      <td>112.000000</td>\n",
       "      <td>4.000000</td>\n",
       "      <td>4.000000</td>\n",
       "      <td>4.00000</td>\n",
       "      <td>9.040000</td>\n",
       "      <td>1.000000</td>\n",
       "      <td>0.82000</td>\n",
       "    </tr>\n",
       "    <tr>\n",
       "      <th>max</th>\n",
       "      <td>500.000000</td>\n",
       "      <td>340.000000</td>\n",
       "      <td>120.000000</td>\n",
       "      <td>5.000000</td>\n",
       "      <td>5.000000</td>\n",
       "      <td>5.00000</td>\n",
       "      <td>9.920000</td>\n",
       "      <td>1.000000</td>\n",
       "      <td>0.97000</td>\n",
       "    </tr>\n",
       "  </tbody>\n",
       "</table>\n",
       "</div>"
      ],
      "text/plain": [
       "       Serial No.   GRE Score  TOEFL Score  University Rating         SOP  \\\n",
       "count  500.000000  500.000000   500.000000         500.000000  500.000000   \n",
       "mean   250.500000  316.472000   107.192000           3.114000    3.374000   \n",
       "std    144.481833   11.295148     6.081868           1.143512    0.991004   \n",
       "min      1.000000  290.000000    92.000000           1.000000    1.000000   \n",
       "25%    125.750000  308.000000   103.000000           2.000000    2.500000   \n",
       "50%    250.500000  317.000000   107.000000           3.000000    3.500000   \n",
       "75%    375.250000  325.000000   112.000000           4.000000    4.000000   \n",
       "max    500.000000  340.000000   120.000000           5.000000    5.000000   \n",
       "\n",
       "            LOR         CGPA    Research  Chance of Admit   \n",
       "count  500.00000  500.000000  500.000000         500.00000  \n",
       "mean     3.48400    8.576440    0.560000           0.72174  \n",
       "std      0.92545    0.604813    0.496884           0.14114  \n",
       "min      1.00000    6.800000    0.000000           0.34000  \n",
       "25%      3.00000    8.127500    0.000000           0.63000  \n",
       "50%      3.50000    8.560000    1.000000           0.72000  \n",
       "75%      4.00000    9.040000    1.000000           0.82000  \n",
       "max      5.00000    9.920000    1.000000           0.97000  "
      ]
     },
     "execution_count": 5,
     "metadata": {},
     "output_type": "execute_result"
    }
   ],
   "source": [
    "admissions_df.describe()"
   ]
  },
  {
   "cell_type": "code",
   "execution_count": null,
   "metadata": {},
   "outputs": [],
   "source": []
  },
  {
   "cell_type": "markdown",
   "metadata": {},
   "source": [
    "As shown above, there are 500 datapoints in our dataset, there are 8 columns, and there is no null data. Chance of Admit will be the target column that the regression we are building is going to predict. All of our columns are numerical, although it is a mix of nominal (research), ordinal (SOP), categorical (University Rating) and interval (GRE Score) data. We will use one hot encoding on the categorical data since we cannot assume that the difference between a 2 and a 3 is the same as the difference between a 4 and 5"
   ]
  },
  {
   "cell_type": "markdown",
   "metadata": {},
   "source": [
    "### Exploratory Data Analysis"
   ]
  },
  {
   "cell_type": "code",
   "execution_count": 6,
   "metadata": {},
   "outputs": [],
   "source": [
    "admissions_df.rename(columns={\"Chance of Admit \": \"Chance_of_admit\", \"University Rating\": \"University_Rating\"}, inplace=True)"
   ]
  },
  {
   "cell_type": "code",
   "execution_count": 7,
   "metadata": {
    "scrolled": true
   },
   "outputs": [
    {
     "data": {
      "image/png": "[encoded data removed]",
      "text/plain": [
       "<Figure size 864x576 with 2 Axes>"
      ]
     },
     "metadata": {
      "needs_background": "light"
     },
     "output_type": "display_data"
    }
   ],
   "source": [
    "fig, ax = plt.subplots(figsize=(12,8))\n",
    "fig.suptitle('Correlation of features with admittance %')\n",
    "corr = admissions_df.corr()[['Chance_of_admit']].sort_values(by='Chance_of_admit', ascending=False)\n",
    "hm = sns.heatmap(corr, annot=True)"
   ]
  },
  {
   "cell_type": "code",
   "execution_count": 10,
   "metadata": {
    "scrolled": false
   },
   "outputs": [
    {
     "data": {
      "image/png": "[encoded data removed]",
      "text/plain": [
       "<Figure size 720x576 with 1 Axes>"
      ]
     },
     "metadata": {},
     "output_type": "display_data"
    }
   ],
   "source": [
    "fig, ax = plt.subplots(figsize=(10,8))\n",
    "sns.set_style('darkgrid')\n",
    "sns.scatterplot(data=admissions_df, x='CGPA',y='Chance_of_admit')\n",
    "ax.set_title('CGPA Scores X Chance of Admission', fontsize= 15)\n",
    "ax.set_xlabel('CGPA', fontsize= 12)\n",
    "ax.set_ylabel('Admission %', fontsize=12);"
   ]
  },
  {
   "cell_type": "code",
   "execution_count": 12,
   "metadata": {},
   "outputs": [
    {
     "data": {
      "image/png": "[encoded data removed]",
      "text/plain": [
       "<Figure size 720x576 with 1 Axes>"
      ]
     },
     "metadata": {},
     "output_type": "display_data"
    }
   ],
   "source": [
    "fig, ax = plt.subplots(figsize=(10,8))\n",
    "sns.set_style('darkgrid')\n",
    "sns.scatterplot(data=admissions_df, x='CGPA',y='Chance_of_admit', hue= 'University_Rating', palette='Set2')\n",
    "ax.set_title('CGPA Scores and Univerity Rating X Chance of Admission', fontsize= 15)\n",
    "ax.set_xlabel('CGPA', fontsize= 12)\n",
    "ax.set_ylabel('Admission %', fontsize=12);"
   ]
  },
  {
   "cell_type": "code",
   "execution_count": 312,
   "metadata": {},
   "outputs": [
    {
     "data": {
      "image/png": "[encoded data removed]",
      "text/plain": [
       "<Figure size 720x576 with 1 Axes>"
      ]
     },
     "metadata": {},
     "output_type": "display_data"
    }
   ],
   "source": [
    "fig, ax = plt.subplots(figsize=(10,8))\n",
    "sns.set_style('darkgrid')\n",
    "sns.scatterplot(data=admissions_df, x='University_Rating',y='Chance_of_admit')\n",
    "ax.set_title('University Rating X Chance of Admission')\n",
    "ax.set_xlabel('University Rating')\n",
    "ax.set_ylabel('Admission %');"
   ]
  },
  {
   "cell_type": "markdown",
   "metadata": {},
   "source": [
    "### Preprocessing"
   ]
  },
  {
   "cell_type": "code",
   "execution_count": 13,
   "metadata": {},
   "outputs": [],
   "source": [
    "admissions_df = pd.get_dummies(data = admissions_df, columns= [\"University_Rating\"])"
   ]
  },
  {
   "cell_type": "code",
   "execution_count": 14,
   "metadata": {},
   "outputs": [],
   "source": [
    "##Splitting data into X (features) and y (target) variables\n",
    "X = admissions_df.drop(labels=[\"Chance_of_admit\"], axis=1)\n",
    "y = admissions_df[\"Chance_of_admit\"]\n",
    "\n",
    "#Split further into train/test sets\n",
    "X_train, X_test, y_train, y_test = train_test_split(X,y,test_size=.2,random_state=42)"
   ]
  },
  {
   "cell_type": "code",
   "execution_count": 15,
   "metadata": {},
   "outputs": [],
   "source": [
    "## Standardize data to give all features equal weight\n",
    "ss = StandardScaler()\n",
    "X_train_scale = ss.fit_transform(X_train)\n",
    "X_test_scale = ss.transform(X_test)"
   ]
  },
  {
   "cell_type": "code",
   "execution_count": 16,
   "metadata": {},
   "outputs": [
    {
     "data": {
      "text/html": [
       "<div>\n",
       "<style scoped>\n",
       "    .dataframe tbody tr th:only-of-type {\n",
       "        vertical-align: middle;\n",
       "    }\n",
       "\n",
       "    .dataframe tbody tr th {\n",
       "        vertical-align: top;\n",
       "    }\n",
       "\n",
       "    .dataframe thead th {\n",
       "        text-align: right;\n",
       "    }\n",
       "</style>\n",
       "<table border=\"1\" class=\"dataframe\">\n",
       "  <thead>\n",
       "    <tr style=\"text-align: right;\">\n",
       "      <th></th>\n",
       "      <th>Serial No.</th>\n",
       "      <th>GRE Score</th>\n",
       "      <th>TOEFL Score</th>\n",
       "      <th>SOP</th>\n",
       "      <th>LOR</th>\n",
       "      <th>CGPA</th>\n",
       "      <th>Research</th>\n",
       "      <th>University_Rating_1</th>\n",
       "      <th>University_Rating_2</th>\n",
       "      <th>University_Rating_3</th>\n",
       "      <th>University_Rating_4</th>\n",
       "      <th>University_Rating_5</th>\n",
       "    </tr>\n",
       "  </thead>\n",
       "  <tbody>\n",
       "    <tr>\n",
       "      <th>0</th>\n",
       "      <td>0.006926</td>\n",
       "      <td>0.389986</td>\n",
       "      <td>0.602418</td>\n",
       "      <td>0.126796</td>\n",
       "      <td>0.564984</td>\n",
       "      <td>0.415018</td>\n",
       "      <td>0.895434</td>\n",
       "      <td>-0.269047</td>\n",
       "      <td>-0.581199</td>\n",
       "      <td>1.424887</td>\n",
       "      <td>-0.5</td>\n",
       "      <td>-0.420084</td>\n",
       "    </tr>\n",
       "    <tr>\n",
       "      <th>1</th>\n",
       "      <td>1.317425</td>\n",
       "      <td>-0.066405</td>\n",
       "      <td>0.602418</td>\n",
       "      <td>0.633979</td>\n",
       "      <td>1.651491</td>\n",
       "      <td>-0.067852</td>\n",
       "      <td>-1.116777</td>\n",
       "      <td>-0.269047</td>\n",
       "      <td>-0.581199</td>\n",
       "      <td>-0.701810</td>\n",
       "      <td>2.0</td>\n",
       "      <td>-0.420084</td>\n",
       "    </tr>\n",
       "    <tr>\n",
       "      <th>2</th>\n",
       "      <td>-1.631197</td>\n",
       "      <td>-1.253022</td>\n",
       "      <td>-0.876917</td>\n",
       "      <td>0.126796</td>\n",
       "      <td>-0.521524</td>\n",
       "      <td>-0.134454</td>\n",
       "      <td>-1.116777</td>\n",
       "      <td>-0.269047</td>\n",
       "      <td>-0.581199</td>\n",
       "      <td>1.424887</td>\n",
       "      <td>-0.5</td>\n",
       "      <td>-0.420084</td>\n",
       "    </tr>\n",
       "    <tr>\n",
       "      <th>3</th>\n",
       "      <td>0.526853</td>\n",
       "      <td>-0.248961</td>\n",
       "      <td>-0.055064</td>\n",
       "      <td>-0.887570</td>\n",
       "      <td>0.564984</td>\n",
       "      <td>-0.517420</td>\n",
       "      <td>-1.116777</td>\n",
       "      <td>-0.269047</td>\n",
       "      <td>1.720580</td>\n",
       "      <td>-0.701810</td>\n",
       "      <td>-0.5</td>\n",
       "      <td>-0.420084</td>\n",
       "    </tr>\n",
       "    <tr>\n",
       "      <th>4</th>\n",
       "      <td>0.598075</td>\n",
       "      <td>-0.796631</td>\n",
       "      <td>-0.219435</td>\n",
       "      <td>0.126796</td>\n",
       "      <td>-1.064777</td>\n",
       "      <td>-0.617324</td>\n",
       "      <td>0.895434</td>\n",
       "      <td>-0.269047</td>\n",
       "      <td>-0.581199</td>\n",
       "      <td>1.424887</td>\n",
       "      <td>-0.5</td>\n",
       "      <td>-0.420084</td>\n",
       "    </tr>\n",
       "  </tbody>\n",
       "</table>\n",
       "</div>"
      ],
      "text/plain": [
       "   Serial No.  GRE Score  TOEFL Score       SOP      LOR       CGPA  Research  \\\n",
       "0    0.006926   0.389986     0.602418  0.126796  0.564984  0.415018  0.895434   \n",
       "1    1.317425  -0.066405     0.602418  0.633979  1.651491 -0.067852 -1.116777   \n",
       "2   -1.631197  -1.253022    -0.876917  0.126796 -0.521524 -0.134454 -1.116777   \n",
       "3    0.526853  -0.248961    -0.055064 -0.887570  0.564984 -0.517420 -1.116777   \n",
       "4    0.598075  -0.796631    -0.219435  0.126796 -1.064777 -0.617324  0.895434   \n",
       "\n",
       "   University_Rating_1  University_Rating_2  University_Rating_3  \\\n",
       "0            -0.269047            -0.581199             1.424887   \n",
       "1            -0.269047            -0.581199            -0.701810   \n",
       "2            -0.269047            -0.581199             1.424887   \n",
       "3            -0.269047             1.720580            -0.701810   \n",
       "4            -0.269047            -0.581199             1.424887   \n",
       "\n",
       "   University_Rating_4  University_Rating_5  \n",
       "0                 -0.5            -0.420084  \n",
       "1                  2.0            -0.420084  \n",
       "2                 -0.5            -0.420084  \n",
       "3                 -0.5            -0.420084  \n",
       "4                 -0.5            -0.420084  "
      ]
     },
     "execution_count": 16,
     "metadata": {},
     "output_type": "execute_result"
    }
   ],
   "source": [
    "## Take a look at how data looks scaled\n",
    "pd.DataFrame(X_train_scale, columns=X_train.columns).head()"
   ]
  },
  {
   "cell_type": "markdown",
   "metadata": {},
   "source": [
    "#### Baseline model (Linear Regression)"
   ]
  },
  {
   "cell_type": "code",
   "execution_count": 34,
   "metadata": {},
   "outputs": [
    {
     "data": {
      "text/plain": [
       "0.8306842551270386"
      ]
     },
     "execution_count": 34,
     "metadata": {},
     "output_type": "execute_result"
    }
   ],
   "source": [
    "linreg = LinearRegression()\n",
    "linreg.fit(X_train_scale, y_train)\n",
    "linreg.score(X_train_scale, y_train)"
   ]
  },
  {
   "cell_type": "code",
   "execution_count": 35,
   "metadata": {},
   "outputs": [],
   "source": [
    "y_pred_lr = linreg.predict(X_test_scale)\n",
    "r2 = r2_score(y_test, y_pred_lr)\n",
    "mse = mean_squared_error(y_test, y_pred_lr)"
   ]
  },
  {
   "cell_type": "code",
   "execution_count": 36,
   "metadata": {
    "scrolled": true
   },
   "outputs": [
    {
     "name": "stdout",
     "output_type": "stream",
     "text": [
      "Mean Squared Error:  0.003493895019773117\n",
      "R-Squared Value:  0.8291493877861557\n"
     ]
    }
   ],
   "source": [
    "print(\"Mean Squared Error: \", mse)\n",
    "print(\"R-Squared Value: \", r2)"
   ]
  },
  {
   "cell_type": "code",
   "execution_count": 39,
   "metadata": {},
   "outputs": [
    {
     "data": {
      "image/png": "[encoded data removed]",
      "text/plain": [
       "<Figure size 648x648 with 1 Axes>"
      ]
     },
     "metadata": {},
     "output_type": "display_data"
    }
   ],
   "source": [
    "plt.figure(figsize=(9,9))\n",
    "plt.scatter(y_test, y_pred_lr)\n",
    "plt.xlabel('Actual Values', fontsize=12)\n",
    "plt.ylabel('Predicted Values', fontsize=12)\n",
    "plt.title('Linear Regression Predictions vs. Actual',fontsize=15);"
   ]
  },
  {
   "cell_type": "markdown",
   "metadata": {},
   "source": [
    "Our baseline model of linear regression returned a fairly low mean squared error and a R-squared value of almost .83, pretty good! Lets see if we can beat those scores with a Neural Network."
   ]
  },
  {
   "cell_type": "markdown",
   "metadata": {},
   "source": [
    "#### First Deep Learning Model"
   ]
  },
  {
   "cell_type": "code",
   "execution_count": 42,
   "metadata": {
    "scrolled": true
   },
   "outputs": [
    {
     "data": {
      "text/plain": [
       "(400, 12)"
      ]
     },
     "execution_count": 42,
     "metadata": {},
     "output_type": "execute_result"
    }
   ],
   "source": [
    "X_train_scale.shape"
   ]
  },
  {
   "cell_type": "code",
   "execution_count": 69,
   "metadata": {},
   "outputs": [],
   "source": [
    "#Chosen to use a TF Keras Sequential model\n",
    "model1 = Sequential()\n",
    "#Input Layer\n",
    "model_input = tf.keras.Input(shape=12)\n",
    "model1.add(model_input)\n",
    "#Hidden layer with 8 nuerons\n",
    "first_layer = layers.Dense(8, activation = 'relu')\n",
    "model1.add(first_layer)\n",
    "#output layer\n",
    "model1.add(layers.Dense(1))\n",
    "#compile model - Adam optimizer, mean squared error for regression\n",
    "opt = Adam(learning_rate=.01)\n",
    "model1.compile(loss='mse', metrics=['mae'],optimizer=opt)"
   ]
  },
  {
   "cell_type": "code",
   "execution_count": 70,
   "metadata": {},
   "outputs": [
    {
     "name": "stdout",
     "output_type": "stream",
     "text": [
      "Model: \"sequential_5\"\n",
      "_________________________________________________________________\n",
      "Layer (type)                 Output Shape              Param #   \n",
      "=================================================================\n",
      "dense_6 (Dense)              (None, 8)                 104       \n",
      "_________________________________________________________________\n",
      "dense_7 (Dense)              (None, 1)                 9         \n",
      "=================================================================\n",
      "Total params: 113\n",
      "Trainable params: 113\n",
      "Non-trainable params: 0\n",
      "_________________________________________________________________\n"
     ]
    }
   ],
   "source": [
    "#Taking a look at the model summary\n",
    "model1.summary()"
   ]
  },
  {
   "cell_type": "code",
   "execution_count": 71,
   "metadata": {},
   "outputs": [
    {
     "name": "stdout",
     "output_type": "stream",
     "text": [
      "Epoch 1/50\n",
      "80/80 [==============================] - 0s 767us/step - loss: 0.1658 - mae: 0.2939\n",
      "Epoch 2/50\n",
      "80/80 [==============================] - 0s 638us/step - loss: 0.0173 - mae: 0.0999\n",
      "Epoch 3/50\n",
      "80/80 [==============================] - 0s 617us/step - loss: 0.0102 - mae: 0.0766\n",
      "Epoch 4/50\n",
      "80/80 [==============================] - 0s 697us/step - loss: 0.0075 - mae: 0.0649\n",
      "Epoch 5/50\n",
      "80/80 [==============================] - 0s 684us/step - loss: 0.0068 - mae: 0.0650\n",
      "Epoch 6/50\n",
      "80/80 [==============================] - 0s 706us/step - loss: 0.0061 - mae: 0.0595\n",
      "Epoch 7/50\n",
      "80/80 [==============================] - 0s 817us/step - loss: 0.0055 - mae: 0.0559\n",
      "Epoch 8/50\n",
      "80/80 [==============================] - 0s 797us/step - loss: 0.0052 - mae: 0.0566\n",
      "Epoch 9/50\n",
      "80/80 [==============================] - 0s 818us/step - loss: 0.0047 - mae: 0.0518\n",
      "Epoch 10/50\n",
      "80/80 [==============================] - 0s 837us/step - loss: 0.0044 - mae: 0.0516\n",
      "Epoch 11/50\n",
      "80/80 [==============================] - 0s 786us/step - loss: 0.0048 - mae: 0.0532\n",
      "Epoch 12/50\n",
      "80/80 [==============================] - 0s 806us/step - loss: 0.0050 - mae: 0.0558\n",
      "Epoch 13/50\n",
      "80/80 [==============================] - 0s 851us/step - loss: 0.0041 - mae: 0.0495\n",
      "Epoch 14/50\n",
      "80/80 [==============================] - 0s 744us/step - loss: 0.0042 - mae: 0.0497\n",
      "Epoch 15/50\n",
      "80/80 [==============================] - 0s 768us/step - loss: 0.0037 - mae: 0.0463\n",
      "Epoch 16/50\n",
      "80/80 [==============================] - 0s 867us/step - loss: 0.0043 - mae: 0.0500\n",
      "Epoch 17/50\n",
      "80/80 [==============================] - 0s 819us/step - loss: 0.0039 - mae: 0.0488\n",
      "Epoch 18/50\n",
      "80/80 [==============================] - 0s 734us/step - loss: 0.0037 - mae: 0.0473\n",
      "Epoch 19/50\n",
      "80/80 [==============================] - 0s 745us/step - loss: 0.0038 - mae: 0.0468\n",
      "Epoch 20/50\n",
      "80/80 [==============================] - 0s 732us/step - loss: 0.0042 - mae: 0.0503\n",
      "Epoch 21/50\n",
      "80/80 [==============================] - 0s 769us/step - loss: 0.0038 - mae: 0.0482\n",
      "Epoch 22/50\n",
      "80/80 [==============================] - 0s 780us/step - loss: 0.0036 - mae: 0.0454\n",
      "Epoch 23/50\n",
      "80/80 [==============================] - 0s 694us/step - loss: 0.0037 - mae: 0.0464\n",
      "Epoch 24/50\n",
      "80/80 [==============================] - 0s 792us/step - loss: 0.0037 - mae: 0.0473\n",
      "Epoch 25/50\n",
      "80/80 [==============================] - 0s 823us/step - loss: 0.0036 - mae: 0.0454\n",
      "Epoch 26/50\n",
      "80/80 [==============================] - 0s 763us/step - loss: 0.0033 - mae: 0.0438\n",
      "Epoch 27/50\n",
      "80/80 [==============================] - 0s 730us/step - loss: 0.0042 - mae: 0.0501\n",
      "Epoch 28/50\n",
      "80/80 [==============================] - 0s 928us/step - loss: 0.0037 - mae: 0.0475\n",
      "Epoch 29/50\n",
      "80/80 [==============================] - 0s 877us/step - loss: 0.0036 - mae: 0.0464\n",
      "Epoch 30/50\n",
      "80/80 [==============================] - 0s 688us/step - loss: 0.0032 - mae: 0.0421\n",
      "Epoch 31/50\n",
      "80/80 [==============================] - 0s 652us/step - loss: 0.0032 - mae: 0.0428\n",
      "Epoch 32/50\n",
      "80/80 [==============================] - 0s 772us/step - loss: 0.0034 - mae: 0.0451\n",
      "Epoch 33/50\n",
      "80/80 [==============================] - 0s 774us/step - loss: 0.0036 - mae: 0.0457\n",
      "Epoch 34/50\n",
      "80/80 [==============================] - 0s 778us/step - loss: 0.0035 - mae: 0.0445\n",
      "Epoch 35/50\n",
      "80/80 [==============================] - 0s 804us/step - loss: 0.0034 - mae: 0.0461\n",
      "Epoch 36/50\n",
      "80/80 [==============================] - 0s 830us/step - loss: 0.0033 - mae: 0.0432\n",
      "Epoch 37/50\n",
      "80/80 [==============================] - 0s 728us/step - loss: 0.0032 - mae: 0.0423\n",
      "Epoch 38/50\n",
      "80/80 [==============================] - 0s 620us/step - loss: 0.0038 - mae: 0.0477\n",
      "Epoch 39/50\n",
      "80/80 [==============================] - 0s 711us/step - loss: 0.0032 - mae: 0.0426\n",
      "Epoch 40/50\n",
      "80/80 [==============================] - 0s 718us/step - loss: 0.0033 - mae: 0.0446\n",
      "Epoch 41/50\n",
      "80/80 [==============================] - 0s 772us/step - loss: 0.0032 - mae: 0.0424\n",
      "Epoch 42/50\n",
      "80/80 [==============================] - 0s 754us/step - loss: 0.0032 - mae: 0.0432\n",
      "Epoch 43/50\n",
      "80/80 [==============================] - 0s 688us/step - loss: 0.0033 - mae: 0.0433\n",
      "Epoch 44/50\n",
      "80/80 [==============================] - 0s 598us/step - loss: 0.0032 - mae: 0.0418\n",
      "Epoch 45/50\n",
      "80/80 [==============================] - 0s 734us/step - loss: 0.0032 - mae: 0.0432\n",
      "Epoch 46/50\n",
      "80/80 [==============================] - 0s 728us/step - loss: 0.0030 - mae: 0.0412\n",
      "Epoch 47/50\n",
      "80/80 [==============================] - 0s 784us/step - loss: 0.0032 - mae: 0.0438\n",
      "Epoch 48/50\n",
      "80/80 [==============================] - 0s 916us/step - loss: 0.0034 - mae: 0.0437\n",
      "Epoch 49/50\n",
      "80/80 [==============================] - 0s 777us/step - loss: 0.0034 - mae: 0.0455\n",
      "Epoch 50/50\n",
      "80/80 [==============================] - 0s 752us/step - loss: 0.0034 - mae: 0.0439\n"
     ]
    },
    {
     "data": {
      "text/plain": [
       "<tensorflow.python.keras.callbacks.History at 0x7fb7fb5cc970>"
      ]
     },
     "execution_count": 71,
     "metadata": {},
     "output_type": "execute_result"
    }
   ],
   "source": [
    "#Fit the model to training data using 50 epochs and batch size of 5\n",
    "model1.fit(X_train_scale, y_train, epochs=50, batch_size=5, verbose=1)"
   ]
  },
  {
   "cell_type": "code",
   "execution_count": 72,
   "metadata": {},
   "outputs": [
    {
     "name": "stdout",
     "output_type": "stream",
     "text": [
      "Model 1 R-Squared:  0.8042044544559663\n",
      "Model 1 Mean Squared Error:  0.004004018906375489\n"
     ]
    }
   ],
   "source": [
    "# Evaluate model using test data\n",
    "y_pred = model1.predict(X_test_scale)\n",
    "r2 = r2_score(y_test, y_pred)\n",
    "mse = mean_squared_error(y_test, y_pred)\n",
    "print(\"Model 1 R-Squared: \", r2)\n",
    "print(\"Model 1 Mean Squared Error: \", mse)"
   ]
  },
  {
   "cell_type": "markdown",
   "metadata": {},
   "source": [
    "Not bad scores, but not better than the oringinal linear regression...lets see if we can modify the model to do better by adding another activation layer, Dropout layers and an early stopping feature"
   ]
  },
  {
   "cell_type": "code",
   "execution_count": 191,
   "metadata": {
    "scrolled": false
   },
   "outputs": [],
   "source": [
    "def build_model():\n",
    "    model = Sequential()\n",
    "#Input layer\n",
    "    inpt = layers.InputLayer(input_shape=(12,))\n",
    "    model.add(inpt)\n",
    "#Hidden layers\n",
    "    first_layer = layers.Dense(16, activation='relu')\n",
    "    model.add(first_layer)\n",
    "    model.add(layers.Dropout(.1))\n",
    "    second_layer = layers.Dense(8, activation='relu')\n",
    "    model.add(second_layer)\n",
    "    model.add(layers.Dropout(.2))\n",
    "#Output layer\n",
    "    model.add(layers.Dense(1))\n",
    "#Compile \n",
    "    opt = Adam(learning_rate=.01)\n",
    "    model.compile(loss='mse', metrics=['mae'],optimizer=opt)\n",
    "    return model\n"
   ]
  },
  {
   "cell_type": "code",
   "execution_count": 192,
   "metadata": {},
   "outputs": [
    {
     "name": "stdout",
     "output_type": "stream",
     "text": [
      "Model: \"sequential_24\"\n",
      "_________________________________________________________________\n",
      "Layer (type)                 Output Shape              Param #   \n",
      "=================================================================\n",
      "dense_62 (Dense)             (None, 16)                208       \n",
      "_________________________________________________________________\n",
      "dropout_36 (Dropout)         (None, 16)                0         \n",
      "_________________________________________________________________\n",
      "dense_63 (Dense)             (None, 8)                 136       \n",
      "_________________________________________________________________\n",
      "dropout_37 (Dropout)         (None, 8)                 0         \n",
      "_________________________________________________________________\n",
      "dense_64 (Dense)             (None, 1)                 9         \n",
      "=================================================================\n",
      "Total params: 353\n",
      "Trainable params: 353\n",
      "Non-trainable params: 0\n",
      "_________________________________________________________________\n",
      "None\n"
     ]
    }
   ],
   "source": [
    "model2 = build_model()\n",
    "print(model2.summary())"
   ]
  },
  {
   "cell_type": "code",
   "execution_count": 193,
   "metadata": {},
   "outputs": [],
   "source": [
    "early_stop = EarlyStopping(monitor='val_loss',mode='min',verbose=1,patience=30)"
   ]
  },
  {
   "cell_type": "code",
   "execution_count": 194,
   "metadata": {},
   "outputs": [
    {
     "name": "stdout",
     "output_type": "stream",
     "text": [
      "Epoch 1/50\n",
      "64/64 [==============================] - 0s 2ms/step - loss: 0.1783 - mae: 0.3218 - val_loss: 0.0300 - val_mae: 0.1385\n",
      "Epoch 2/50\n",
      "64/64 [==============================] - 0s 1ms/step - loss: 0.0331 - mae: 0.1474 - val_loss: 0.0111 - val_mae: 0.0807\n",
      "Epoch 3/50\n",
      "64/64 [==============================] - 0s 1ms/step - loss: 0.0184 - mae: 0.1028 - val_loss: 0.0078 - val_mae: 0.0648\n",
      "Epoch 4/50\n",
      "64/64 [==============================] - 0s 948us/step - loss: 0.0118 - mae: 0.0841 - val_loss: 0.0080 - val_mae: 0.0685\n",
      "Epoch 5/50\n",
      "64/64 [==============================] - 0s 1ms/step - loss: 0.0113 - mae: 0.0809 - val_loss: 0.0080 - val_mae: 0.0696\n",
      "Epoch 6/50\n",
      "64/64 [==============================] - 0s 1ms/step - loss: 0.0087 - mae: 0.0723 - val_loss: 0.0075 - val_mae: 0.0660\n",
      "Epoch 7/50\n",
      "64/64 [==============================] - 0s 1ms/step - loss: 0.0095 - mae: 0.0731 - val_loss: 0.0072 - val_mae: 0.0664\n",
      "Epoch 8/50\n",
      "64/64 [==============================] - 0s 966us/step - loss: 0.0087 - mae: 0.0696 - val_loss: 0.0047 - val_mae: 0.0490\n",
      "Epoch 9/50\n",
      "64/64 [==============================] - 0s 1ms/step - loss: 0.0076 - mae: 0.0650 - val_loss: 0.0053 - val_mae: 0.0587\n",
      "Epoch 10/50\n",
      "64/64 [==============================] - 0s 2ms/step - loss: 0.0087 - mae: 0.0717 - val_loss: 0.0068 - val_mae: 0.0663\n",
      "Epoch 11/50\n",
      "64/64 [==============================] - 0s 1ms/step - loss: 0.0076 - mae: 0.0661 - val_loss: 0.0071 - val_mae: 0.0726\n",
      "Epoch 12/50\n",
      "64/64 [==============================] - 0s 989us/step - loss: 0.0074 - mae: 0.0672 - val_loss: 0.0044 - val_mae: 0.0505\n",
      "Epoch 13/50\n",
      "64/64 [==============================] - 0s 1ms/step - loss: 0.0076 - mae: 0.0647 - val_loss: 0.0042 - val_mae: 0.0464\n",
      "Epoch 14/50\n",
      "64/64 [==============================] - 0s 982us/step - loss: 0.0067 - mae: 0.0638 - val_loss: 0.0041 - val_mae: 0.0486\n",
      "Epoch 15/50\n",
      "64/64 [==============================] - 0s 1ms/step - loss: 0.0072 - mae: 0.0635 - val_loss: 0.0043 - val_mae: 0.0502\n",
      "Epoch 16/50\n",
      "64/64 [==============================] - 0s 1ms/step - loss: 0.0082 - mae: 0.0669 - val_loss: 0.0062 - val_mae: 0.0637\n",
      "Epoch 17/50\n",
      "64/64 [==============================] - 0s 1ms/step - loss: 0.0070 - mae: 0.0616 - val_loss: 0.0038 - val_mae: 0.0422\n",
      "Epoch 18/50\n",
      "64/64 [==============================] - 0s 1ms/step - loss: 0.0060 - mae: 0.0591 - val_loss: 0.0035 - val_mae: 0.0429\n",
      "Epoch 19/50\n",
      "64/64 [==============================] - 0s 1ms/step - loss: 0.0063 - mae: 0.0595 - val_loss: 0.0054 - val_mae: 0.0558\n",
      "Epoch 20/50\n",
      "64/64 [==============================] - 0s 1ms/step - loss: 0.0064 - mae: 0.0586 - val_loss: 0.0053 - val_mae: 0.0563\n",
      "Epoch 21/50\n",
      "64/64 [==============================] - 0s 1ms/step - loss: 0.0056 - mae: 0.0551 - val_loss: 0.0037 - val_mae: 0.0449\n",
      "Epoch 22/50\n",
      "64/64 [==============================] - 0s 1ms/step - loss: 0.0067 - mae: 0.0614 - val_loss: 0.0034 - val_mae: 0.0432\n",
      "Epoch 23/50\n",
      "64/64 [==============================] - 0s 1ms/step - loss: 0.0065 - mae: 0.0590 - val_loss: 0.0045 - val_mae: 0.0493\n",
      "Epoch 24/50\n",
      "64/64 [==============================] - 0s 1ms/step - loss: 0.0072 - mae: 0.0617 - val_loss: 0.0048 - val_mae: 0.0484\n",
      "Epoch 25/50\n",
      "64/64 [==============================] - 0s 1ms/step - loss: 0.0071 - mae: 0.0621 - val_loss: 0.0042 - val_mae: 0.0440\n",
      "Epoch 26/50\n",
      "64/64 [==============================] - 0s 1ms/step - loss: 0.0062 - mae: 0.0576 - val_loss: 0.0032 - val_mae: 0.0394\n",
      "Epoch 27/50\n",
      "64/64 [==============================] - 0s 1ms/step - loss: 0.0063 - mae: 0.0609 - val_loss: 0.0039 - val_mae: 0.0471\n",
      "Epoch 28/50\n",
      "64/64 [==============================] - 0s 1ms/step - loss: 0.0068 - mae: 0.0605 - val_loss: 0.0073 - val_mae: 0.0691\n",
      "Epoch 29/50\n",
      "64/64 [==============================] - 0s 984us/step - loss: 0.0064 - mae: 0.0569 - val_loss: 0.0061 - val_mae: 0.0556\n",
      "Epoch 30/50\n",
      "64/64 [==============================] - 0s 1ms/step - loss: 0.0062 - mae: 0.0604 - val_loss: 0.0042 - val_mae: 0.0464\n",
      "Epoch 31/50\n",
      "64/64 [==============================] - 0s 966us/step - loss: 0.0072 - mae: 0.0648 - val_loss: 0.0058 - val_mae: 0.0562\n",
      "Epoch 32/50\n",
      "64/64 [==============================] - 0s 1ms/step - loss: 0.0060 - mae: 0.0565 - val_loss: 0.0046 - val_mae: 0.0529\n",
      "Epoch 33/50\n",
      "64/64 [==============================] - 0s 1ms/step - loss: 0.0067 - mae: 0.0610 - val_loss: 0.0050 - val_mae: 0.0483\n",
      "Epoch 34/50\n",
      "64/64 [==============================] - 0s 1ms/step - loss: 0.0060 - mae: 0.0569 - val_loss: 0.0038 - val_mae: 0.0444\n",
      "Epoch 35/50\n",
      "64/64 [==============================] - 0s 1ms/step - loss: 0.0057 - mae: 0.0565 - val_loss: 0.0037 - val_mae: 0.0455\n",
      "Epoch 36/50\n",
      "64/64 [==============================] - 0s 1ms/step - loss: 0.0055 - mae: 0.0551 - val_loss: 0.0041 - val_mae: 0.0489\n",
      "Epoch 37/50\n",
      "64/64 [==============================] - 0s 1ms/step - loss: 0.0055 - mae: 0.0563 - val_loss: 0.0039 - val_mae: 0.0454\n",
      "Epoch 38/50\n",
      "64/64 [==============================] - 0s 1ms/step - loss: 0.0052 - mae: 0.0538 - val_loss: 0.0038 - val_mae: 0.0433\n",
      "Epoch 39/50\n",
      "64/64 [==============================] - 0s 1ms/step - loss: 0.0050 - mae: 0.0538 - val_loss: 0.0041 - val_mae: 0.0479\n",
      "Epoch 40/50\n",
      "64/64 [==============================] - 0s 1ms/step - loss: 0.0047 - mae: 0.0521 - val_loss: 0.0036 - val_mae: 0.0475\n",
      "Epoch 41/50\n",
      "64/64 [==============================] - 0s 1ms/step - loss: 0.0064 - mae: 0.0591 - val_loss: 0.0042 - val_mae: 0.0500\n",
      "Epoch 42/50\n",
      "64/64 [==============================] - 0s 1ms/step - loss: 0.0056 - mae: 0.0575 - val_loss: 0.0045 - val_mae: 0.0479\n",
      "Epoch 43/50\n",
      "64/64 [==============================] - 0s 973us/step - loss: 0.0054 - mae: 0.0541 - val_loss: 0.0049 - val_mae: 0.0555\n",
      "Epoch 44/50\n",
      "64/64 [==============================] - 0s 1ms/step - loss: 0.0056 - mae: 0.0567 - val_loss: 0.0044 - val_mae: 0.0514\n",
      "Epoch 45/50\n",
      "64/64 [==============================] - 0s 1ms/step - loss: 0.0062 - mae: 0.0592 - val_loss: 0.0035 - val_mae: 0.0406\n",
      "Epoch 46/50\n",
      "64/64 [==============================] - 0s 1ms/step - loss: 0.0052 - mae: 0.0554 - val_loss: 0.0032 - val_mae: 0.0394\n",
      "Epoch 47/50\n",
      "64/64 [==============================] - 0s 1ms/step - loss: 0.0053 - mae: 0.0531 - val_loss: 0.0037 - val_mae: 0.0420\n",
      "Epoch 48/50\n",
      "64/64 [==============================] - 0s 1ms/step - loss: 0.0053 - mae: 0.0551 - val_loss: 0.0052 - val_mae: 0.0599\n",
      "Epoch 49/50\n",
      "64/64 [==============================] - 0s 1ms/step - loss: 0.0057 - mae: 0.0553 - val_loss: 0.0040 - val_mae: 0.0488\n",
      "Epoch 50/50\n",
      "64/64 [==============================] - 0s 999us/step - loss: 0.0062 - mae: 0.0593 - val_loss: 0.0061 - val_mae: 0.0537\n"
     ]
    },
    {
     "data": {
      "text/plain": [
       "<tensorflow.python.keras.callbacks.History at 0x7fb8031950d0>"
      ]
     },
     "execution_count": 194,
     "metadata": {},
     "output_type": "execute_result"
    }
   ],
   "source": [
    "model2.fit(X_train_scale, y_train, epochs=50, batch_size=5, verbose=1, validation_split=.2, callbacks=[early_stop])"
   ]
  },
  {
   "cell_type": "code",
   "execution_count": 195,
   "metadata": {
    "scrolled": true
   },
   "outputs": [
    {
     "name": "stdout",
     "output_type": "stream",
     "text": [
      "Model 2 R-Squared:  0.7053887797107417\n",
      "Model 2 Mean Squared Error:  0.006024799454915335\n"
     ]
    }
   ],
   "source": [
    "# Evaluate model using test data\n",
    "y_pred = model2.predict(X_test_scale)\n",
    "r2 = r2_score(y_test, y_pred)\n",
    "mse = mean_squared_error(y_test, y_pred)\n",
    "print(\"Model 2 R-Squared: \", r2)\n",
    "print(\"Model 2 Mean Squared Error: \", mse)"
   ]
  },
  {
   "cell_type": "markdown",
   "metadata": {},
   "source": [
    "The extra steps made the predictions less accurate :(\n",
    "\n",
    "Let's see if we can improve the r-squared with some hyperameter tuning"
   ]
  },
  {
   "cell_type": "markdown",
   "metadata": {},
   "source": [
    "### Grid Search"
   ]
  },
  {
   "cell_type": "code",
   "execution_count": 234,
   "metadata": {},
   "outputs": [],
   "source": [
    "batch_sizes = [5, 10, 25, 50]\n",
    "epochs = [40, 100, 250]\n",
    "param_grid = dict(batch_size=batch_sizes,epochs=epochs)"
   ]
  },
  {
   "cell_type": "code",
   "execution_count": 235,
   "metadata": {},
   "outputs": [],
   "source": [
    "#use KerasRegressor so ScikitLearn will be able to work with it\n",
    "gridmodel = KerasRegressor(build_fn=build_model, verbose=0)"
   ]
  },
  {
   "cell_type": "code",
   "execution_count": 236,
   "metadata": {},
   "outputs": [],
   "source": [
    "grid = GridSearchCV(\n",
    "    estimator=gridmodel, \n",
    "    param_grid=param_grid, \n",
    "    scoring=make_scorer(mean_squared_error, greater_is_better=False),\n",
    "    n_jobs=-1\n",
    ")"
   ]
  },
  {
   "cell_type": "code",
   "execution_count": 237,
   "metadata": {},
   "outputs": [
    {
     "name": "stdout",
     "output_type": "stream",
     "text": [
      "{'batch_size': 25, 'epochs': 250}\n"
     ]
    }
   ],
   "source": [
    "result = grid.fit(X_train_scale, y_train)\n",
    "print(result.best_params_)"
   ]
  },
  {
   "cell_type": "code",
   "execution_count": 244,
   "metadata": {
    "scrolled": true
   },
   "outputs": [
    {
     "name": "stdout",
     "output_type": "stream",
     "text": [
      "Epoch 1/250\n",
      "13/13 [==============================] - 0s 6ms/step - loss: 0.0043 - mae: 0.0500 - val_loss: 0.0050 - val_mae: 0.0544\n",
      "Epoch 2/250\n",
      "13/13 [==============================] - 0s 3ms/step - loss: 0.0047 - mae: 0.0481 - val_loss: 0.0050 - val_mae: 0.0513\n",
      "Epoch 3/250\n",
      "13/13 [==============================] - 0s 3ms/step - loss: 0.0040 - mae: 0.0470 - val_loss: 0.0049 - val_mae: 0.0518\n",
      "Epoch 4/250\n",
      "13/13 [==============================] - 0s 4ms/step - loss: 0.0037 - mae: 0.0447 - val_loss: 0.0048 - val_mae: 0.0507\n",
      "Epoch 5/250\n",
      "13/13 [==============================] - 0s 4ms/step - loss: 0.0042 - mae: 0.0473 - val_loss: 0.0048 - val_mae: 0.0506\n",
      "Epoch 6/250\n",
      "13/13 [==============================] - 0s 4ms/step - loss: 0.0033 - mae: 0.0416 - val_loss: 0.0050 - val_mae: 0.0519\n",
      "Epoch 7/250\n",
      "13/13 [==============================] - 0s 4ms/step - loss: 0.0033 - mae: 0.0431 - val_loss: 0.0050 - val_mae: 0.0562\n",
      "Epoch 8/250\n",
      "13/13 [==============================] - 0s 6ms/step - loss: 0.0038 - mae: 0.0465 - val_loss: 0.0045 - val_mae: 0.0528\n",
      "Epoch 9/250\n",
      "13/13 [==============================] - 0s 7ms/step - loss: 0.0038 - mae: 0.0463 - val_loss: 0.0047 - val_mae: 0.0518\n",
      "Epoch 10/250\n",
      "13/13 [==============================] - 0s 4ms/step - loss: 0.0036 - mae: 0.0456 - val_loss: 0.0042 - val_mae: 0.0470\n",
      "Epoch 11/250\n",
      "13/13 [==============================] - 0s 3ms/step - loss: 0.0035 - mae: 0.0446 - val_loss: 0.0044 - val_mae: 0.0485\n",
      "Epoch 12/250\n",
      "13/13 [==============================] - 0s 4ms/step - loss: 0.0036 - mae: 0.0452 - val_loss: 0.0047 - val_mae: 0.0563\n",
      "Epoch 13/250\n",
      "13/13 [==============================] - 0s 4ms/step - loss: 0.0036 - mae: 0.0454 - val_loss: 0.0047 - val_mae: 0.0505\n",
      "Epoch 14/250\n",
      "13/13 [==============================] - 0s 4ms/step - loss: 0.0039 - mae: 0.0448 - val_loss: 0.0044 - val_mae: 0.0511\n",
      "Epoch 15/250\n",
      "13/13 [==============================] - 0s 4ms/step - loss: 0.0036 - mae: 0.0454 - val_loss: 0.0051 - val_mae: 0.0542\n",
      "Epoch 16/250\n",
      "13/13 [==============================] - 0s 12ms/step - loss: 0.0038 - mae: 0.0451 - val_loss: 0.0046 - val_mae: 0.0511\n",
      "Epoch 17/250\n",
      "13/13 [==============================] - 0s 4ms/step - loss: 0.0039 - mae: 0.0462 - val_loss: 0.0054 - val_mae: 0.0553\n",
      "Epoch 18/250\n",
      "13/13 [==============================] - 0s 3ms/step - loss: 0.0042 - mae: 0.0476 - val_loss: 0.0048 - val_mae: 0.0550\n",
      "Epoch 19/250\n",
      "13/13 [==============================] - 0s 3ms/step - loss: 0.0035 - mae: 0.0432 - val_loss: 0.0052 - val_mae: 0.0538\n",
      "Epoch 20/250\n",
      "13/13 [==============================] - 0s 4ms/step - loss: 0.0035 - mae: 0.0455 - val_loss: 0.0047 - val_mae: 0.0499\n",
      "Epoch 21/250\n",
      "13/13 [==============================] - 0s 4ms/step - loss: 0.0034 - mae: 0.0445 - val_loss: 0.0047 - val_mae: 0.0513\n",
      "Epoch 22/250\n",
      "13/13 [==============================] - 0s 4ms/step - loss: 0.0037 - mae: 0.0430 - val_loss: 0.0042 - val_mae: 0.0495\n",
      "Epoch 23/250\n",
      "13/13 [==============================] - 0s 4ms/step - loss: 0.0037 - mae: 0.0441 - val_loss: 0.0045 - val_mae: 0.0507\n",
      "Epoch 24/250\n",
      "13/13 [==============================] - 0s 4ms/step - loss: 0.0042 - mae: 0.0470 - val_loss: 0.0039 - val_mae: 0.0501\n",
      "Epoch 25/250\n",
      "13/13 [==============================] - 0s 5ms/step - loss: 0.0037 - mae: 0.0453 - val_loss: 0.0046 - val_mae: 0.0540\n",
      "Epoch 26/250\n",
      "13/13 [==============================] - 0s 4ms/step - loss: 0.0038 - mae: 0.0454 - val_loss: 0.0045 - val_mae: 0.0530\n",
      "Epoch 27/250\n",
      "13/13 [==============================] - 0s 3ms/step - loss: 0.0036 - mae: 0.0414 - val_loss: 0.0058 - val_mae: 0.0608\n",
      "Epoch 28/250\n",
      "13/13 [==============================] - 0s 3ms/step - loss: 0.0038 - mae: 0.0456 - val_loss: 0.0052 - val_mae: 0.0592\n",
      "Epoch 29/250\n",
      "13/13 [==============================] - 0s 4ms/step - loss: 0.0037 - mae: 0.0445 - val_loss: 0.0053 - val_mae: 0.0561\n",
      "Epoch 30/250\n",
      "13/13 [==============================] - 0s 5ms/step - loss: 0.0040 - mae: 0.0457 - val_loss: 0.0045 - val_mae: 0.0514\n",
      "Epoch 31/250\n",
      "13/13 [==============================] - 0s 4ms/step - loss: 0.0035 - mae: 0.0453 - val_loss: 0.0049 - val_mae: 0.0546\n",
      "Epoch 32/250\n",
      "13/13 [==============================] - 0s 4ms/step - loss: 0.0037 - mae: 0.0446 - val_loss: 0.0043 - val_mae: 0.0510\n",
      "Epoch 33/250\n",
      "13/13 [==============================] - 0s 4ms/step - loss: 0.0037 - mae: 0.0452 - val_loss: 0.0043 - val_mae: 0.0509\n",
      "Epoch 34/250\n",
      "13/13 [==============================] - 0s 4ms/step - loss: 0.0037 - mae: 0.0439 - val_loss: 0.0047 - val_mae: 0.0538\n",
      "Epoch 35/250\n",
      "13/13 [==============================] - 0s 4ms/step - loss: 0.0035 - mae: 0.0441 - val_loss: 0.0050 - val_mae: 0.0542\n",
      "Epoch 36/250\n",
      "13/13 [==============================] - 0s 4ms/step - loss: 0.0031 - mae: 0.0400 - val_loss: 0.0053 - val_mae: 0.0586\n",
      "Epoch 37/250\n",
      "13/13 [==============================] - 0s 4ms/step - loss: 0.0038 - mae: 0.0453 - val_loss: 0.0058 - val_mae: 0.0613\n",
      "Epoch 38/250\n",
      "13/13 [==============================] - 0s 4ms/step - loss: 0.0038 - mae: 0.0451 - val_loss: 0.0048 - val_mae: 0.0498\n",
      "Epoch 39/250\n",
      "13/13 [==============================] - 0s 8ms/step - loss: 0.0036 - mae: 0.0456 - val_loss: 0.0052 - val_mae: 0.0562\n",
      "Epoch 40/250\n",
      "13/13 [==============================] - 0s 4ms/step - loss: 0.0032 - mae: 0.0403 - val_loss: 0.0043 - val_mae: 0.0483\n",
      "Epoch 41/250\n",
      "13/13 [==============================] - 0s 4ms/step - loss: 0.0037 - mae: 0.0447 - val_loss: 0.0050 - val_mae: 0.0564\n",
      "Epoch 42/250\n",
      "13/13 [==============================] - 0s 4ms/step - loss: 0.0035 - mae: 0.0439 - val_loss: 0.0050 - val_mae: 0.0556\n",
      "Epoch 43/250\n",
      "13/13 [==============================] - 0s 3ms/step - loss: 0.0037 - mae: 0.0458 - val_loss: 0.0051 - val_mae: 0.0562\n",
      "Epoch 44/250\n",
      "13/13 [==============================] - 0s 4ms/step - loss: 0.0036 - mae: 0.0437 - val_loss: 0.0049 - val_mae: 0.0536\n",
      "Epoch 45/250\n",
      "13/13 [==============================] - 0s 4ms/step - loss: 0.0035 - mae: 0.0440 - val_loss: 0.0058 - val_mae: 0.0626\n",
      "Epoch 46/250\n",
      "13/13 [==============================] - 0s 4ms/step - loss: 0.0031 - mae: 0.0425 - val_loss: 0.0045 - val_mae: 0.0518\n",
      "Epoch 47/250\n",
      "13/13 [==============================] - 0s 4ms/step - loss: 0.0035 - mae: 0.0433 - val_loss: 0.0044 - val_mae: 0.0524\n",
      "Epoch 48/250\n",
      "13/13 [==============================] - 0s 3ms/step - loss: 0.0041 - mae: 0.0474 - val_loss: 0.0052 - val_mae: 0.0550\n",
      "Epoch 49/250\n",
      "13/13 [==============================] - 0s 3ms/step - loss: 0.0040 - mae: 0.0477 - val_loss: 0.0055 - val_mae: 0.0603\n",
      "Epoch 50/250\n",
      "13/13 [==============================] - 0s 3ms/step - loss: 0.0035 - mae: 0.0449 - val_loss: 0.0061 - val_mae: 0.0637\n",
      "Epoch 51/250\n",
      "13/13 [==============================] - 0s 4ms/step - loss: 0.0043 - mae: 0.0473 - val_loss: 0.0054 - val_mae: 0.0596\n",
      "Epoch 52/250\n",
      "13/13 [==============================] - 0s 4ms/step - loss: 0.0037 - mae: 0.0454 - val_loss: 0.0055 - val_mae: 0.0589\n",
      "Epoch 53/250\n",
      "13/13 [==============================] - 0s 4ms/step - loss: 0.0034 - mae: 0.0441 - val_loss: 0.0049 - val_mae: 0.0507\n",
      "Epoch 54/250\n",
      "13/13 [==============================] - 0s 4ms/step - loss: 0.0034 - mae: 0.0457 - val_loss: 0.0058 - val_mae: 0.0586\n",
      "Epoch 00054: early stopping\n"
     ]
    },
    {
     "data": {
      "text/plain": [
       "<tensorflow.python.keras.callbacks.History at 0x7fb7fd7624c0>"
      ]
     },
     "execution_count": 244,
     "metadata": {},
     "output_type": "execute_result"
    }
   ],
   "source": [
    "model2.fit(X_train_scale, y_train, epochs=250, batch_size=25, verbose=1, validation_split=.2, callbacks=[early_stop])"
   ]
  },
  {
   "cell_type": "code",
   "execution_count": 245,
   "metadata": {
    "scrolled": false
   },
   "outputs": [
    {
     "name": "stdout",
     "output_type": "stream",
     "text": [
      "Model 2 R-Squared:  0.746706840145594\n",
      "Model 2 Mean Squared Error:  0.005179845119022605\n"
     ]
    }
   ],
   "source": [
    "# Evaluate model using test data\n",
    "y_pred = model2.predict(X_test_scale)\n",
    "r2 = r2_score(y_test, y_pred)\n",
    "mse = mean_squared_error(y_test, y_pred)\n",
    "print(\"Model 2 R-Squared: \", r2)\n",
    "print(\"Model 2 Mean Squared Error: \", mse)"
   ]
  },
  {
   "cell_type": "markdown",
   "metadata": {},
   "source": [
    "Well there's improvement, but still not better than the first model or the linear regression model, maybe we overcomplicated it by adding a second layer, lets work with the first model again"
   ]
  },
  {
   "cell_type": "markdown",
   "metadata": {},
   "source": [
    "### Final Model"
   ]
  },
  {
   "cell_type": "code",
   "execution_count": 246,
   "metadata": {},
   "outputs": [],
   "source": [
    "def create_model():\n",
    "    model = Sequential()\n",
    "    inpt = layers.InputLayer(input_shape=(12,))\n",
    "    model.add(inpt)\n",
    "    \n",
    "    layer = layers.Dense(16, activation='relu')\n",
    "    model.add(layer)\n",
    "    model.add(layers.Dropout(0.1))\n",
    "    \n",
    "    model.add(layers.Dense(1))\n",
    "    \n",
    "    opt = Adam(learning_rate=.005)\n",
    "    model.compile(loss='mse', metrics=['mae'],optimizer=opt)\n",
    "    return model"
   ]
  },
  {
   "cell_type": "code",
   "execution_count": 19,
   "metadata": {},
   "outputs": [],
   "source": [
    "finalmodel=create_model()"
   ]
  },
  {
   "cell_type": "code",
   "execution_count": 20,
   "metadata": {},
   "outputs": [
    {
     "name": "stdout",
     "output_type": "stream",
     "text": [
      "Model: \"sequential\"\n",
      "_________________________________________________________________\n",
      "Layer (type)                 Output Shape              Param #   \n",
      "=================================================================\n",
      "dense (Dense)                (None, 16)                208       \n",
      "_________________________________________________________________\n",
      "dropout (Dropout)            (None, 16)                0         \n",
      "_________________________________________________________________\n",
      "dense_1 (Dense)              (None, 1)                 17        \n",
      "=================================================================\n",
      "Total params: 225\n",
      "Trainable params: 225\n",
      "Non-trainable params: 0\n",
      "_________________________________________________________________\n",
      "None\n"
     ]
    }
   ],
   "source": [
    "print(finalmodel.summary())"
   ]
  },
  {
   "cell_type": "code",
   "execution_count": 22,
   "metadata": {},
   "outputs": [],
   "source": [
    "es = EarlyStopping(monitor='val_loss',mode='min',verbose=1,patience=20)"
   ]
  },
  {
   "cell_type": "code",
   "execution_count": 250,
   "metadata": {},
   "outputs": [
    {
     "name": "stdout",
     "output_type": "stream",
     "text": [
      "Epoch 1/100\n",
      "16/16 [==============================] - 0s 7ms/step - loss: 0.4476 - mae: 0.4917 - val_loss: 0.1595 - val_mae: 0.3305\n",
      "Epoch 2/100\n",
      "16/16 [==============================] - 0s 2ms/step - loss: 0.1740 - mae: 0.3051 - val_loss: 0.0644 - val_mae: 0.1957\n",
      "Epoch 3/100\n",
      "16/16 [==============================] - 0s 2ms/step - loss: 0.1039 - mae: 0.2437 - val_loss: 0.0476 - val_mae: 0.1732\n",
      "Epoch 4/100\n",
      "16/16 [==============================] - 0s 2ms/step - loss: 0.0714 - mae: 0.1876 - val_loss: 0.0394 - val_mae: 0.1504\n",
      "Epoch 5/100\n",
      "16/16 [==============================] - 0s 2ms/step - loss: 0.0621 - mae: 0.1802 - val_loss: 0.0302 - val_mae: 0.1318\n",
      "Epoch 6/100\n",
      "16/16 [==============================] - 0s 2ms/step - loss: 0.0588 - mae: 0.1693 - val_loss: 0.0256 - val_mae: 0.1185\n",
      "Epoch 7/100\n",
      "16/16 [==============================] - 0s 2ms/step - loss: 0.0465 - mae: 0.1517 - val_loss: 0.0210 - val_mae: 0.1082\n",
      "Epoch 8/100\n",
      "16/16 [==============================] - 0s 2ms/step - loss: 0.0391 - mae: 0.1424 - val_loss: 0.0195 - val_mae: 0.1051\n",
      "Epoch 9/100\n",
      "16/16 [==============================] - 0s 2ms/step - loss: 0.0425 - mae: 0.1493 - val_loss: 0.0172 - val_mae: 0.1003\n",
      "Epoch 10/100\n",
      "16/16 [==============================] - 0s 2ms/step - loss: 0.0288 - mae: 0.1193 - val_loss: 0.0153 - val_mae: 0.0959\n",
      "Epoch 11/100\n",
      "16/16 [==============================] - 0s 2ms/step - loss: 0.0336 - mae: 0.1343 - val_loss: 0.0131 - val_mae: 0.0854\n",
      "Epoch 12/100\n",
      "16/16 [==============================] - 0s 2ms/step - loss: 0.0292 - mae: 0.1184 - val_loss: 0.0129 - val_mae: 0.0859\n",
      "Epoch 13/100\n",
      "16/16 [==============================] - 0s 2ms/step - loss: 0.0273 - mae: 0.1219 - val_loss: 0.0111 - val_mae: 0.0785\n",
      "Epoch 14/100\n",
      "16/16 [==============================] - 0s 2ms/step - loss: 0.0196 - mae: 0.1096 - val_loss: 0.0100 - val_mae: 0.0741\n",
      "Epoch 15/100\n",
      "16/16 [==============================] - 0s 2ms/step - loss: 0.0201 - mae: 0.1067 - val_loss: 0.0094 - val_mae: 0.0727\n",
      "Epoch 16/100\n",
      "16/16 [==============================] - 0s 2ms/step - loss: 0.0171 - mae: 0.0980 - val_loss: 0.0093 - val_mae: 0.0734\n",
      "Epoch 17/100\n",
      "16/16 [==============================] - 0s 3ms/step - loss: 0.0136 - mae: 0.0881 - val_loss: 0.0079 - val_mae: 0.0676\n",
      "Epoch 18/100\n",
      "16/16 [==============================] - 0s 3ms/step - loss: 0.0167 - mae: 0.0961 - val_loss: 0.0076 - val_mae: 0.0667\n",
      "Epoch 19/100\n",
      "16/16 [==============================] - 0s 2ms/step - loss: 0.0118 - mae: 0.0849 - val_loss: 0.0077 - val_mae: 0.0680\n",
      "Epoch 20/100\n",
      "16/16 [==============================] - 0s 3ms/step - loss: 0.0126 - mae: 0.0835 - val_loss: 0.0075 - val_mae: 0.0660\n",
      "Epoch 21/100\n",
      "16/16 [==============================] - 0s 3ms/step - loss: 0.0145 - mae: 0.0905 - val_loss: 0.0072 - val_mae: 0.0644\n",
      "Epoch 22/100\n",
      "16/16 [==============================] - 0s 2ms/step - loss: 0.0137 - mae: 0.0849 - val_loss: 0.0070 - val_mae: 0.0655\n",
      "Epoch 23/100\n",
      "16/16 [==============================] - 0s 2ms/step - loss: 0.0116 - mae: 0.0824 - val_loss: 0.0068 - val_mae: 0.0622\n",
      "Epoch 24/100\n",
      "16/16 [==============================] - 0s 2ms/step - loss: 0.0097 - mae: 0.0743 - val_loss: 0.0064 - val_mae: 0.0626\n",
      "Epoch 25/100\n",
      "16/16 [==============================] - 0s 3ms/step - loss: 0.0101 - mae: 0.0744 - val_loss: 0.0061 - val_mae: 0.0599\n",
      "Epoch 26/100\n",
      "16/16 [==============================] - 0s 2ms/step - loss: 0.0099 - mae: 0.0735 - val_loss: 0.0058 - val_mae: 0.0608\n",
      "Epoch 27/100\n",
      "16/16 [==============================] - 0s 2ms/step - loss: 0.0079 - mae: 0.0677 - val_loss: 0.0056 - val_mae: 0.0576\n",
      "Epoch 28/100\n",
      "16/16 [==============================] - 0s 2ms/step - loss: 0.0084 - mae: 0.0690 - val_loss: 0.0060 - val_mae: 0.0616\n",
      "Epoch 29/100\n",
      "16/16 [==============================] - 0s 2ms/step - loss: 0.0077 - mae: 0.0660 - val_loss: 0.0053 - val_mae: 0.0559\n",
      "Epoch 30/100\n",
      "16/16 [==============================] - 0s 2ms/step - loss: 0.0072 - mae: 0.0642 - val_loss: 0.0052 - val_mae: 0.0549\n",
      "Epoch 31/100\n",
      "16/16 [==============================] - 0s 2ms/step - loss: 0.0075 - mae: 0.0654 - val_loss: 0.0050 - val_mae: 0.0536\n",
      "Epoch 32/100\n",
      "16/16 [==============================] - 0s 3ms/step - loss: 0.0072 - mae: 0.0656 - val_loss: 0.0048 - val_mae: 0.0519\n",
      "Epoch 33/100\n",
      "16/16 [==============================] - 0s 2ms/step - loss: 0.0081 - mae: 0.0700 - val_loss: 0.0049 - val_mae: 0.0522\n",
      "Epoch 34/100\n",
      "16/16 [==============================] - 0s 2ms/step - loss: 0.0065 - mae: 0.0613 - val_loss: 0.0050 - val_mae: 0.0539\n",
      "Epoch 35/100\n",
      "16/16 [==============================] - 0s 3ms/step - loss: 0.0070 - mae: 0.0632 - val_loss: 0.0050 - val_mae: 0.0551\n",
      "Epoch 36/100\n",
      "16/16 [==============================] - 0s 2ms/step - loss: 0.0062 - mae: 0.0615 - val_loss: 0.0049 - val_mae: 0.0519\n",
      "Epoch 37/100\n",
      "16/16 [==============================] - 0s 2ms/step - loss: 0.0059 - mae: 0.0603 - val_loss: 0.0049 - val_mae: 0.0549\n",
      "Epoch 38/100\n",
      "16/16 [==============================] - 0s 2ms/step - loss: 0.0071 - mae: 0.0611 - val_loss: 0.0046 - val_mae: 0.0495\n",
      "Epoch 39/100\n",
      "16/16 [==============================] - 0s 2ms/step - loss: 0.0064 - mae: 0.0609 - val_loss: 0.0046 - val_mae: 0.0507\n",
      "Epoch 40/100\n",
      "16/16 [==============================] - 0s 2ms/step - loss: 0.0059 - mae: 0.0587 - val_loss: 0.0044 - val_mae: 0.0490\n",
      "Epoch 41/100\n",
      "16/16 [==============================] - 0s 2ms/step - loss: 0.0058 - mae: 0.0584 - val_loss: 0.0043 - val_mae: 0.0495\n",
      "Epoch 42/100\n",
      "16/16 [==============================] - 0s 2ms/step - loss: 0.0056 - mae: 0.0584 - val_loss: 0.0044 - val_mae: 0.0478\n",
      "Epoch 43/100\n",
      "16/16 [==============================] - 0s 2ms/step - loss: 0.0054 - mae: 0.0560 - val_loss: 0.0044 - val_mae: 0.0512\n",
      "Epoch 44/100\n",
      "16/16 [==============================] - 0s 2ms/step - loss: 0.0059 - mae: 0.0568 - val_loss: 0.0041 - val_mae: 0.0477\n",
      "Epoch 45/100\n",
      "16/16 [==============================] - 0s 2ms/step - loss: 0.0051 - mae: 0.0543 - val_loss: 0.0040 - val_mae: 0.0481\n",
      "Epoch 46/100\n",
      "16/16 [==============================] - 0s 2ms/step - loss: 0.0053 - mae: 0.0550 - val_loss: 0.0039 - val_mae: 0.0461\n",
      "Epoch 47/100\n",
      "16/16 [==============================] - 0s 2ms/step - loss: 0.0053 - mae: 0.0555 - val_loss: 0.0044 - val_mae: 0.0515\n",
      "Epoch 48/100\n",
      "16/16 [==============================] - 0s 3ms/step - loss: 0.0052 - mae: 0.0557 - val_loss: 0.0040 - val_mae: 0.0467\n",
      "Epoch 49/100\n",
      "16/16 [==============================] - 0s 4ms/step - loss: 0.0046 - mae: 0.0514 - val_loss: 0.0040 - val_mae: 0.0483\n",
      "Epoch 50/100\n",
      "16/16 [==============================] - 0s 2ms/step - loss: 0.0048 - mae: 0.0531 - val_loss: 0.0037 - val_mae: 0.0453\n",
      "Epoch 51/100\n",
      "16/16 [==============================] - 0s 2ms/step - loss: 0.0049 - mae: 0.0525 - val_loss: 0.0036 - val_mae: 0.0441\n",
      "Epoch 52/100\n",
      "16/16 [==============================] - 0s 2ms/step - loss: 0.0047 - mae: 0.0519 - val_loss: 0.0038 - val_mae: 0.0459\n",
      "Epoch 53/100\n",
      "16/16 [==============================] - 0s 2ms/step - loss: 0.0048 - mae: 0.0515 - val_loss: 0.0037 - val_mae: 0.0467\n",
      "Epoch 54/100\n",
      "16/16 [==============================] - 0s 2ms/step - loss: 0.0048 - mae: 0.0528 - val_loss: 0.0039 - val_mae: 0.0462\n",
      "Epoch 55/100\n",
      "16/16 [==============================] - 0s 2ms/step - loss: 0.0046 - mae: 0.0512 - val_loss: 0.0037 - val_mae: 0.0465\n",
      "Epoch 56/100\n",
      "16/16 [==============================] - 0s 2ms/step - loss: 0.0042 - mae: 0.0494 - val_loss: 0.0035 - val_mae: 0.0437\n",
      "Epoch 57/100\n",
      "16/16 [==============================] - 0s 2ms/step - loss: 0.0045 - mae: 0.0512 - val_loss: 0.0036 - val_mae: 0.0440\n",
      "Epoch 58/100\n",
      "16/16 [==============================] - 0s 2ms/step - loss: 0.0044 - mae: 0.0501 - val_loss: 0.0036 - val_mae: 0.0447\n",
      "Epoch 59/100\n",
      "16/16 [==============================] - 0s 2ms/step - loss: 0.0044 - mae: 0.0508 - val_loss: 0.0035 - val_mae: 0.0442\n",
      "Epoch 60/100\n",
      "16/16 [==============================] - 0s 2ms/step - loss: 0.0047 - mae: 0.0521 - val_loss: 0.0034 - val_mae: 0.0422\n",
      "Epoch 61/100\n",
      "16/16 [==============================] - 0s 2ms/step - loss: 0.0040 - mae: 0.0474 - val_loss: 0.0035 - val_mae: 0.0431\n",
      "Epoch 62/100\n",
      "16/16 [==============================] - 0s 2ms/step - loss: 0.0040 - mae: 0.0480 - val_loss: 0.0035 - val_mae: 0.0441\n",
      "Epoch 63/100\n",
      "16/16 [==============================] - 0s 2ms/step - loss: 0.0040 - mae: 0.0478 - val_loss: 0.0036 - val_mae: 0.0454\n",
      "Epoch 64/100\n",
      "16/16 [==============================] - 0s 2ms/step - loss: 0.0037 - mae: 0.0460 - val_loss: 0.0034 - val_mae: 0.0423\n",
      "Epoch 65/100\n",
      "16/16 [==============================] - 0s 2ms/step - loss: 0.0036 - mae: 0.0448 - val_loss: 0.0033 - val_mae: 0.0419\n",
      "Epoch 66/100\n",
      "16/16 [==============================] - 0s 2ms/step - loss: 0.0043 - mae: 0.0484 - val_loss: 0.0034 - val_mae: 0.0413\n",
      "Epoch 67/100\n",
      "16/16 [==============================] - 0s 2ms/step - loss: 0.0039 - mae: 0.0484 - val_loss: 0.0034 - val_mae: 0.0419\n",
      "Epoch 68/100\n",
      "16/16 [==============================] - 0s 2ms/step - loss: 0.0036 - mae: 0.0453 - val_loss: 0.0034 - val_mae: 0.0421\n",
      "Epoch 69/100\n",
      "16/16 [==============================] - 0s 2ms/step - loss: 0.0041 - mae: 0.0486 - val_loss: 0.0033 - val_mae: 0.0413\n",
      "Epoch 70/100\n",
      "16/16 [==============================] - 0s 2ms/step - loss: 0.0035 - mae: 0.0451 - val_loss: 0.0038 - val_mae: 0.0481\n",
      "Epoch 71/100\n",
      "16/16 [==============================] - 0s 2ms/step - loss: 0.0043 - mae: 0.0490 - val_loss: 0.0035 - val_mae: 0.0413\n",
      "Epoch 72/100\n",
      "16/16 [==============================] - 0s 2ms/step - loss: 0.0039 - mae: 0.0467 - val_loss: 0.0035 - val_mae: 0.0432\n",
      "Epoch 73/100\n",
      "16/16 [==============================] - 0s 2ms/step - loss: 0.0038 - mae: 0.0465 - val_loss: 0.0034 - val_mae: 0.0431\n",
      "Epoch 74/100\n",
      "16/16 [==============================] - 0s 2ms/step - loss: 0.0041 - mae: 0.0488 - val_loss: 0.0036 - val_mae: 0.0436\n",
      "Epoch 75/100\n",
      "16/16 [==============================] - 0s 2ms/step - loss: 0.0041 - mae: 0.0470 - val_loss: 0.0035 - val_mae: 0.0428\n",
      "Epoch 76/100\n",
      "16/16 [==============================] - 0s 2ms/step - loss: 0.0036 - mae: 0.0448 - val_loss: 0.0034 - val_mae: 0.0414\n",
      "Epoch 77/100\n",
      "16/16 [==============================] - 0s 2ms/step - loss: 0.0035 - mae: 0.0449 - val_loss: 0.0037 - val_mae: 0.0426\n",
      "Epoch 78/100\n",
      "16/16 [==============================] - 0s 2ms/step - loss: 0.0039 - mae: 0.0476 - val_loss: 0.0035 - val_mae: 0.0426\n",
      "Epoch 79/100\n",
      "16/16 [==============================] - 0s 2ms/step - loss: 0.0033 - mae: 0.0425 - val_loss: 0.0033 - val_mae: 0.0414\n",
      "Epoch 80/100\n",
      "16/16 [==============================] - 0s 3ms/step - loss: 0.0033 - mae: 0.0433 - val_loss: 0.0035 - val_mae: 0.0418\n",
      "Epoch 81/100\n",
      "16/16 [==============================] - 0s 2ms/step - loss: 0.0037 - mae: 0.0443 - val_loss: 0.0037 - val_mae: 0.0454\n",
      "Epoch 82/100\n",
      "16/16 [==============================] - 0s 2ms/step - loss: 0.0033 - mae: 0.0444 - val_loss: 0.0035 - val_mae: 0.0437\n",
      "Epoch 83/100\n",
      "16/16 [==============================] - 0s 2ms/step - loss: 0.0033 - mae: 0.0441 - val_loss: 0.0036 - val_mae: 0.0450\n",
      "Epoch 84/100\n",
      "16/16 [==============================] - 0s 2ms/step - loss: 0.0032 - mae: 0.0438 - val_loss: 0.0035 - val_mae: 0.0430\n",
      "Epoch 85/100\n",
      "16/16 [==============================] - 0s 2ms/step - loss: 0.0036 - mae: 0.0462 - val_loss: 0.0036 - val_mae: 0.0432\n",
      "Epoch 00085: early stopping\n"
     ]
    }
   ],
   "source": [
    "fm = finalmodel.fit(X_train_scale, y_train, epochs=100, batch_size= 20, verbose=1, validation_split=.2,callbacks=[es])"
   ]
  },
  {
   "cell_type": "code",
   "execution_count": 252,
   "metadata": {},
   "outputs": [
    {
     "name": "stdout",
     "output_type": "stream",
     "text": [
      "Final Model R-Squared:  0.8089200032437709\n",
      "Final Model Mean Squared Error:  0.003907585933664885\n"
     ]
    }
   ],
   "source": [
    "y_pred = finalmodel.predict(X_test_scale)\n",
    "r2 = r2_score(y_test, y_pred)\n",
    "mse = mean_squared_error(y_test, y_pred)\n",
    "print(\"Final Model R-Squared: \", r2)\n",
    "print(\"Final Model Mean Squared Error: \", mse)"
   ]
  },
  {
   "cell_type": "markdown",
   "metadata": {},
   "source": [
    "We were able to improve on the Neural Network score, but still couldn't beat the darn Linear regression!\n",
    "This is likely due to the smaller nature of the dataset we are using (500 datapoints), Neural networks tend to perform their best with very large datasets. At least we gained some solid expierence using Deep Learning for a regression "
   ]
  },
  {
   "cell_type": "code",
   "execution_count": 309,
   "metadata": {
    "scrolled": true
   },
   "outputs": [
    {
     "data": {
      "text/plain": [
       "''"
      ]
     },
     "execution_count": 309,
     "metadata": {},
     "output_type": "execute_result"
    },
    {
     "data": {
      "image/png": "[encoded data removed]",
      "text/plain": [
       "<Figure size 720x576 with 1 Axes>"
      ]
     },
     "metadata": {},
     "output_type": "display_data"
    }
   ],
   "source": [
    "fig = plt.figure(figsize=(10,8))\n",
    "ax1 = fig.add_subplot(2, 1, 1)\n",
    "ax1.plot(fm.history['mae'])\n",
    "ax1.plot(fm.history['val_mae'])\n",
    "ax1.set_title(\"Final Model MAE by Epoch\")\n",
    "ax1.set_ylabel('MAE')\n",
    "ax1.set_xlabel('Epochs')\n",
    "ax1.legend(['train', 'validation'], loc='upper left')\n",
    ";"
   ]
  },
  {
   "cell_type": "code",
   "execution_count": 308,
   "metadata": {
    "scrolled": true
   },
   "outputs": [
    {
     "data": {
      "image/png": "[encoded data removed]",
      "text/plain": [
       "<Figure size 720x432 with 1 Axes>"
      ]
     },
     "metadata": {},
     "output_type": "display_data"
    }
   ],
   "source": [
    "fig = plt.figure(figsize = (10, 6))\n",
    "ax2 = fig.add_subplot(2, 1, 1)\n",
    "ax2.plot(fm.history['loss'])\n",
    "ax2.plot(fm.history['val_loss'])\n",
    "ax2.set_title('model loss')\n",
    "ax2.set_ylabel('loss')\n",
    "ax2.set_xlabel('epoch')\n",
    "ax2.legend(['train', 'validation'], loc='upper left');"
   ]
  },
  {
   "cell_type": "markdown",
   "metadata": {},
   "source": [
    "Looking at the MAE and loss graphs over the epochs, it seems that our model may be overfit, lets try another model with 40 epochs"
   ]
  },
  {
   "cell_type": "code",
   "execution_count": 278,
   "metadata": {},
   "outputs": [
    {
     "name": "stdout",
     "output_type": "stream",
     "text": [
      "Epoch 1/40\n",
      "16/16 [==============================] - 0s 3ms/step - loss: 0.0039 - mae: 0.0458 - val_loss: 0.0036 - val_mae: 0.0448\n",
      "Epoch 2/40\n",
      "16/16 [==============================] - 0s 2ms/step - loss: 0.0035 - mae: 0.0453 - val_loss: 0.0035 - val_mae: 0.0432\n",
      "Epoch 3/40\n",
      "16/16 [==============================] - 0s 2ms/step - loss: 0.0035 - mae: 0.0456 - val_loss: 0.0034 - val_mae: 0.0427\n",
      "Epoch 4/40\n",
      "16/16 [==============================] - 0s 2ms/step - loss: 0.0034 - mae: 0.0429 - val_loss: 0.0035 - val_mae: 0.0439\n",
      "Epoch 5/40\n",
      "16/16 [==============================] - 0s 3ms/step - loss: 0.0038 - mae: 0.0461 - val_loss: 0.0036 - val_mae: 0.0450\n",
      "Epoch 6/40\n",
      "16/16 [==============================] - 0s 2ms/step - loss: 0.0034 - mae: 0.0440 - val_loss: 0.0036 - val_mae: 0.0428\n",
      "Epoch 7/40\n",
      "16/16 [==============================] - 0s 2ms/step - loss: 0.0032 - mae: 0.0418 - val_loss: 0.0035 - val_mae: 0.0436\n",
      "Epoch 8/40\n",
      "16/16 [==============================] - 0s 2ms/step - loss: 0.0035 - mae: 0.0446 - val_loss: 0.0035 - val_mae: 0.0416\n",
      "Epoch 9/40\n",
      "16/16 [==============================] - 0s 2ms/step - loss: 0.0033 - mae: 0.0429 - val_loss: 0.0035 - val_mae: 0.0430\n",
      "Epoch 10/40\n",
      "16/16 [==============================] - 0s 2ms/step - loss: 0.0034 - mae: 0.0447 - val_loss: 0.0035 - val_mae: 0.0432\n",
      "Epoch 11/40\n",
      "16/16 [==============================] - 0s 2ms/step - loss: 0.0037 - mae: 0.0471 - val_loss: 0.0038 - val_mae: 0.0455\n",
      "Epoch 12/40\n",
      "16/16 [==============================] - 0s 2ms/step - loss: 0.0030 - mae: 0.0403 - val_loss: 0.0034 - val_mae: 0.0419\n",
      "Epoch 13/40\n",
      "16/16 [==============================] - 0s 2ms/step - loss: 0.0034 - mae: 0.0456 - val_loss: 0.0035 - val_mae: 0.0427\n",
      "Epoch 14/40\n",
      "16/16 [==============================] - 0s 2ms/step - loss: 0.0033 - mae: 0.0425 - val_loss: 0.0037 - val_mae: 0.0452\n",
      "Epoch 15/40\n",
      "16/16 [==============================] - 0s 2ms/step - loss: 0.0035 - mae: 0.0443 - val_loss: 0.0035 - val_mae: 0.0425\n",
      "Epoch 16/40\n",
      "16/16 [==============================] - 0s 2ms/step - loss: 0.0035 - mae: 0.0449 - val_loss: 0.0036 - val_mae: 0.0443\n",
      "Epoch 17/40\n",
      "16/16 [==============================] - 0s 2ms/step - loss: 0.0031 - mae: 0.0429 - val_loss: 0.0036 - val_mae: 0.0435\n",
      "Epoch 18/40\n",
      "16/16 [==============================] - 0s 2ms/step - loss: 0.0029 - mae: 0.0417 - val_loss: 0.0036 - val_mae: 0.0433\n",
      "Epoch 19/40\n",
      "16/16 [==============================] - 0s 2ms/step - loss: 0.0033 - mae: 0.0425 - val_loss: 0.0038 - val_mae: 0.0475\n",
      "Epoch 20/40\n",
      "16/16 [==============================] - 0s 2ms/step - loss: 0.0033 - mae: 0.0437 - val_loss: 0.0036 - val_mae: 0.0430\n",
      "Epoch 21/40\n",
      "16/16 [==============================] - 0s 2ms/step - loss: 0.0031 - mae: 0.0420 - val_loss: 0.0037 - val_mae: 0.0447\n",
      "Epoch 22/40\n",
      "16/16 [==============================] - 0s 2ms/step - loss: 0.0030 - mae: 0.0420 - val_loss: 0.0036 - val_mae: 0.0437\n",
      "Epoch 23/40\n",
      "16/16 [==============================] - 0s 2ms/step - loss: 0.0035 - mae: 0.0436 - val_loss: 0.0036 - val_mae: 0.0442\n",
      "Epoch 00023: early stopping\n"
     ]
    }
   ],
   "source": [
    "fm2 = finalmodel.fit(X_train_scale, y_train, epochs=40, batch_size= 20, verbose=1, validation_split=.2,callbacks=[es])"
   ]
  },
  {
   "cell_type": "code",
   "execution_count": 279,
   "metadata": {},
   "outputs": [
    {
     "name": "stdout",
     "output_type": "stream",
     "text": [
      "Final Model R-Squared:  0.8194557937791782\n",
      "Final Model Mean Squared Error:  0.003692129017215806\n"
     ]
    }
   ],
   "source": [
    "y_pred = finalmodel.predict(X_test_scale)\n",
    "r2 = r2_score(y_test, y_pred)\n",
    "mse = mean_squared_error(y_test, y_pred)\n",
    "print(\"Final Model R-Squared: \", r2)\n",
    "print(\"Final Model Mean Squared Error: \", mse)"
   ]
  },
  {
   "cell_type": "code",
   "execution_count": 32,
   "metadata": {},
   "outputs": [
    {
     "name": "stderr",
     "output_type": "stream",
     "text": [
      "<ipython-input-32-612dfadc453b>:3: MatplotlibDeprecationWarning: Case-insensitive properties were deprecated in 3.3 and support will be removed two minor releases later\n",
      "  plt.xlabel('Actual Values', Fontsize=12)\n",
      "<ipython-input-32-612dfadc453b>:4: MatplotlibDeprecationWarning: Case-insensitive properties were deprecated in 3.3 and support will be removed two minor releases later\n",
      "  plt.ylabel('Predicted Values', Fontsize=12)\n",
      "<ipython-input-32-612dfadc453b>:5: MatplotlibDeprecationWarning: Case-insensitive properties were deprecated in 3.3 and support will be removed two minor releases later\n",
      "  plt.title(\"Deep Learning Predictions vs. Actual\", Fontsize=15);\n"
     ]
    },
    {
     "data": {
      "image/png": "[encoded data removed]",
      "text/plain": [
       "<Figure size 648x648 with 1 Axes>"
      ]
     },
     "metadata": {},
     "output_type": "display_data"
    }
   ],
   "source": [
    "plt.figure(figsize=(9,9))\n",
    "plt.scatter(y_test, y_pred)\n",
    "plt.xlabel('Actual Values', Fontsize=12)\n",
    "plt.ylabel('Predicted Values', Fontsize=12)\n",
    "plt.title(\"Deep Learning Predictions vs. Actual\", Fontsize=15);"
   ]
  },
  {
   "cell_type": "markdown",
   "metadata": {},
   "source": [
    "WOW! Our best score yet, we still couldn't beat Linear regression, but we came real close!"
   ]
  },
  {
   "cell_type": "code",
   "execution_count": null,
   "metadata": {},
   "outputs": [],
   "source": []
  }
 ],
 "metadata": {
  "kernelspec": {
   "display_name": "Python 3",
   "language": "python",
   "name": "python3"
  },
  "language_info": {
   "codemirror_mode": {
    "name": "ipython",
    "version": 3
   },
   "file_extension": ".py",
   "mimetype": "text/x-python",
   "name": "python",
   "nbconvert_exporter": "python",
   "pygments_lexer": "ipython3",
   "version": "3.8.5"
  }
 },
 "nbformat": 4,
 "nbformat_minor": 4
}
